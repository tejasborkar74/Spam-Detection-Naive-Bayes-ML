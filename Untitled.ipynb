{
 "cells": [
  {
   "cell_type": "code",
   "execution_count": 1,
   "metadata": {},
   "outputs": [],
   "source": [
    "import numpy as np\n",
    "import pandas as pd"
   ]
  },
  {
   "cell_type": "code",
   "execution_count": 2,
   "metadata": {
    "scrolled": true
   },
   "outputs": [
    {
     "data": {
      "text/html": [
       "<div>\n",
       "<style scoped>\n",
       "    .dataframe tbody tr th:only-of-type {\n",
       "        vertical-align: middle;\n",
       "    }\n",
       "\n",
       "    .dataframe tbody tr th {\n",
       "        vertical-align: top;\n",
       "    }\n",
       "\n",
       "    .dataframe thead th {\n",
       "        text-align: right;\n",
       "    }\n",
       "</style>\n",
       "<table border=\"1\" class=\"dataframe\">\n",
       "  <thead>\n",
       "    <tr style=\"text-align: right;\">\n",
       "      <th></th>\n",
       "      <th>W</th>\n",
       "      <th>X</th>\n",
       "      <th>Y</th>\n",
       "      <th>Z</th>\n",
       "    </tr>\n",
       "  </thead>\n",
       "  <tbody>\n",
       "    <tr>\n",
       "      <th>A</th>\n",
       "      <td>0.793955</td>\n",
       "      <td>-0.223271</td>\n",
       "      <td>-0.379700</td>\n",
       "      <td>0.424292</td>\n",
       "    </tr>\n",
       "    <tr>\n",
       "      <th>B</th>\n",
       "      <td>1.207265</td>\n",
       "      <td>0.130905</td>\n",
       "      <td>0.756650</td>\n",
       "      <td>0.189846</td>\n",
       "    </tr>\n",
       "    <tr>\n",
       "      <th>C</th>\n",
       "      <td>-0.539825</td>\n",
       "      <td>0.837960</td>\n",
       "      <td>-1.103717</td>\n",
       "      <td>0.957861</td>\n",
       "    </tr>\n",
       "    <tr>\n",
       "      <th>D</th>\n",
       "      <td>2.138813</td>\n",
       "      <td>0.890203</td>\n",
       "      <td>0.688812</td>\n",
       "      <td>-0.069596</td>\n",
       "    </tr>\n",
       "    <tr>\n",
       "      <th>E</th>\n",
       "      <td>-1.325016</td>\n",
       "      <td>0.316312</td>\n",
       "      <td>-0.830436</td>\n",
       "      <td>1.555750</td>\n",
       "    </tr>\n",
       "  </tbody>\n",
       "</table>\n",
       "</div>"
      ],
      "text/plain": [
       "          W         X         Y         Z\n",
       "A  0.793955 -0.223271 -0.379700  0.424292\n",
       "B  1.207265  0.130905  0.756650  0.189846\n",
       "C -0.539825  0.837960 -1.103717  0.957861\n",
       "D  2.138813  0.890203  0.688812 -0.069596\n",
       "E -1.325016  0.316312 -0.830436  1.555750"
      ]
     },
     "execution_count": 2,
     "metadata": {},
     "output_type": "execute_result"
    }
   ],
   "source": [
    "df = pd.DataFrame(np.random.randn(5,4) , ['A','B','C','D','E'] , ['W','X','Y','Z'])\n",
    "df"
   ]
  },
  {
   "cell_type": "code",
   "execution_count": 3,
   "metadata": {},
   "outputs": [
    {
     "name": "stdout",
     "output_type": "stream",
     "text": [
      "0.7939547547434563\n",
      "-0.22327089737176117\n",
      "-0.3796997930571196\n",
      "0.42429221984762383\n",
      "1.2072645972537055\n",
      "0.13090518903685258\n",
      "0.7566496222079011\n",
      "0.1898457218599241\n",
      "-0.5398246937376295\n",
      "0.8379595556284556\n",
      "-1.103717371269356\n",
      "0.9578612037617276\n",
      "2.1388125866645282\n",
      "0.8902034244734923\n",
      "0.6888122575895033\n",
      "-0.06959595569275784\n",
      "-1.32501647919922\n",
      "0.3163123344317725\n",
      "-0.8304355212621882\n",
      "1.5557499513466713\n"
     ]
    }
   ],
   "source": [
    "for ind,row in df.iterrows():\n",
    "    for col in row.iteritems():\n",
    "        print(col[1])"
   ]
  },
  {
   "cell_type": "code",
   "execution_count": 21,
   "metadata": {},
   "outputs": [
    {
     "name": "stdout",
     "output_type": "stream",
     "text": [
      "A\n",
      "B\n",
      "C\n",
      "D\n",
      "E\n"
     ]
    }
   ],
   "source": [
    "for ind,row in df.iterrows():\n",
    "    print(ind)"
   ]
  },
  {
   "cell_type": "code",
   "execution_count": 24,
   "metadata": {},
   "outputs": [],
   "source": [
    "class NaiveBayesClassifier :\n",
    "    def fit(self, X, y):\n",
    "        self.X_train = X\n",
    "        self.y_train = y\n",
    "        \n",
    "    #label => spam/ham\n",
    "    def prior_prob(self, label):\n",
    "        total = self.X_train.shape[0]\n",
    "        label_total = np.sum(self.y_train == label)\n",
    "        return label_total/total\n",
    "    \n",
    "    #Conditional probability P(Xi/label)\n",
    "    def conditional_prob(self, col_name, col_value, label):\n",
    "        X_filtered = self.X_train[self.y_train == label]\n",
    "        numerator = np.sum(X_filtered[:, col_name] == col_value)\n",
    "        denominator = len(X_filtered)\n",
    "        \n",
    "        return numerator/denominator\n",
    "    \n",
    "    def predict(self, X_test):\n",
    "        \n",
    "        pred = []\n",
    "        for ind,row in X_test.iterrows():\n",
    "            s_prob =1\n",
    "            ns_prob =1\n",
    "            \n",
    "            for col in row.iteritems():\n",
    "                s_prob = s_prob*self.conditional_prob(col[0] , col[1],1);\n",
    "                ns_prob =ns_prob*self.conditional_prob(col[0] , col[1],0);\n",
    "                \n",
    "            s_prob= s_prob*prior_prob(1)\n",
    "            ns_prob = ns_prob*prior_prob(0)\n",
    "            if s_prob>ns_prob :\n",
    "                pred.append(1)\n",
    "            else :\n",
    "                pred.append(0)\n",
    "        \n",
    "        return pred;\n",
    "    \n",
    "        \n",
    "    \n",
    "#     def predict(self, message):\n",
    "#         message_words = process_email(message)\n",
    "        \n",
    "#         spam_prob = prior_prob(1)\n",
    "        \n",
    "#         ham_prob = prior_prob(0)\n",
    "        \n",
    "        \n",
    "        "
   ]
  },
  {
   "cell_type": "code",
   "execution_count": 28,
   "metadata": {},
   "outputs": [
    {
     "ename": "NameError",
     "evalue": "name 'X_train' is not defined",
     "output_type": "error",
     "traceback": [
      "\u001b[1;31m---------------------------------------------------------------------------\u001b[0m",
      "\u001b[1;31mNameError\u001b[0m                                 Traceback (most recent call last)",
      "\u001b[1;32m<ipython-input-28-11ecf1ba6f41>\u001b[0m in \u001b[0;36m<module>\u001b[1;34m\u001b[0m\n\u001b[0;32m      1\u001b[0m \u001b[0mclassifier\u001b[0m \u001b[1;33m=\u001b[0m \u001b[0mNaiveBayesClassifier\u001b[0m\u001b[1;33m(\u001b[0m\u001b[1;33m)\u001b[0m\u001b[1;33m\u001b[0m\u001b[1;33m\u001b[0m\u001b[0m\n\u001b[1;32m----> 2\u001b[1;33m \u001b[0mclassifier\u001b[0m\u001b[1;33m.\u001b[0m\u001b[0mfit\u001b[0m\u001b[1;33m(\u001b[0m\u001b[0mX_train\u001b[0m \u001b[1;33m,\u001b[0m \u001b[0mY_train\u001b[0m\u001b[1;33m)\u001b[0m\u001b[1;33m\u001b[0m\u001b[1;33m\u001b[0m\u001b[0m\n\u001b[0m\u001b[0;32m      3\u001b[0m \u001b[1;33m\u001b[0m\u001b[0m\n\u001b[0;32m      4\u001b[0m \u001b[0mpred\u001b[0m \u001b[1;33m=\u001b[0m \u001b[0mpredict\u001b[0m\u001b[1;33m(\u001b[0m\u001b[0mX_train\u001b[0m\u001b[1;33m,\u001b[0m\u001b[0mY_train\u001b[0m\u001b[1;33m,\u001b[0m\u001b[0mX_test\u001b[0m\u001b[1;33m)\u001b[0m\u001b[1;33m\u001b[0m\u001b[1;33m\u001b[0m\u001b[0m\n",
      "\u001b[1;31mNameError\u001b[0m: name 'X_train' is not defined"
     ]
    }
   ],
   "source": [
    "classifier = NaiveBayesClassifier()\n",
    "classifier.fit(X_train , Y_train)\n",
    "\n",
    "pred = predict(X_train,Y_train,X_test)"
   ]
  },
  {
   "cell_type": "code",
   "execution_count": 27,
   "metadata": {},
   "outputs": [],
   "source": [
    "def prior_prob(X_train,Y_train,label):\n",
    "    total = X_train.shape[0]\n",
    "    label_total = np.sum(Y_train == label)\n",
    "    return label_total/total\n",
    "    \n",
    "    #Conditional probability P(Xi/label)\n",
    "def conditional_prob(col_name, col_value, label,X_train,Y_train):\n",
    "    X_filtered = X_train[Y_train == label]\n",
    "    numerator = np.sum(X_filtered[:, col_name] == col_value)\n",
    "    denominator = len(X_filtered)\n",
    "        \n",
    "    return numerator/denominator\n",
    "    \n",
    "def predict(X_train,Y_train, X_test):\n",
    "        \n",
    "    row = X_test.shape[0]\n",
    "    col = X_test.shape[1]\n",
    "    pp1 = prior_prob(X_train,Y_train,1)\n",
    "    pp0 = prior_prob(X_train,Y_train,0)\n",
    "        \n",
    "    pred = []\n",
    "        \n",
    "    for i in range(row):\n",
    "        s_prob =1.0\n",
    "        ns_prob =1.0\n",
    "        print(i)\n",
    "            \n",
    "        for j in range(col):\n",
    "            s_prob = s_prob*conditional_prob(j , X_test[i][j],1,X_train,Y_train);\n",
    "            ns_prob =ns_prob*conditional_prob(j , X_test[i][j],0,X_train,Y_train);\n",
    "            print(j , end = \" \")\n",
    "                \n",
    "        s_prob= s_prob*pp1\n",
    "        ns_prob = ns_prob*pp0\n",
    "        if s_prob>ns_prob :\n",
    "            pred.append(1)\n",
    "        else :\n",
    "            pred.append(0)\n",
    "        print('\\n')\n",
    "    return pred;\n",
    "    \n"
   ]
  },
  {
   "cell_type": "code",
   "execution_count": 7,
   "metadata": {},
   "outputs": [
    {
     "ename": "AttributeError",
     "evalue": "'DataFrame' object has no attribute 'toarray'",
     "output_type": "error",
     "traceback": [
      "\u001b[1;31m---------------------------------------------------------------------------\u001b[0m",
      "\u001b[1;31mAttributeError\u001b[0m                            Traceback (most recent call last)",
      "\u001b[1;32m<ipython-input-7-6be743bbf266>\u001b[0m in \u001b[0;36m<module>\u001b[1;34m\u001b[0m\n\u001b[1;32m----> 1\u001b[1;33m \u001b[0mdf\u001b[0m \u001b[1;33m=\u001b[0m \u001b[0mdf\u001b[0m\u001b[1;33m.\u001b[0m\u001b[0mtoarray\u001b[0m\u001b[1;33m(\u001b[0m\u001b[1;33m)\u001b[0m\u001b[1;33m\u001b[0m\u001b[1;33m\u001b[0m\u001b[0m\n\u001b[0m",
      "\u001b[1;32mc:\\users\\tejas harish borkar\\appdata\\local\\programs\\python\\python38\\lib\\site-packages\\pandas\\core\\generic.py\u001b[0m in \u001b[0;36m__getattr__\u001b[1;34m(self, name)\u001b[0m\n\u001b[0;32m   5128\u001b[0m             \u001b[1;32mif\u001b[0m \u001b[0mself\u001b[0m\u001b[1;33m.\u001b[0m\u001b[0m_info_axis\u001b[0m\u001b[1;33m.\u001b[0m\u001b[0m_can_hold_identifiers_and_holds_name\u001b[0m\u001b[1;33m(\u001b[0m\u001b[0mname\u001b[0m\u001b[1;33m)\u001b[0m\u001b[1;33m:\u001b[0m\u001b[1;33m\u001b[0m\u001b[1;33m\u001b[0m\u001b[0m\n\u001b[0;32m   5129\u001b[0m                 \u001b[1;32mreturn\u001b[0m \u001b[0mself\u001b[0m\u001b[1;33m[\u001b[0m\u001b[0mname\u001b[0m\u001b[1;33m]\u001b[0m\u001b[1;33m\u001b[0m\u001b[1;33m\u001b[0m\u001b[0m\n\u001b[1;32m-> 5130\u001b[1;33m             \u001b[1;32mreturn\u001b[0m \u001b[0mobject\u001b[0m\u001b[1;33m.\u001b[0m\u001b[0m__getattribute__\u001b[0m\u001b[1;33m(\u001b[0m\u001b[0mself\u001b[0m\u001b[1;33m,\u001b[0m \u001b[0mname\u001b[0m\u001b[1;33m)\u001b[0m\u001b[1;33m\u001b[0m\u001b[1;33m\u001b[0m\u001b[0m\n\u001b[0m\u001b[0;32m   5131\u001b[0m \u001b[1;33m\u001b[0m\u001b[0m\n\u001b[0;32m   5132\u001b[0m     \u001b[1;32mdef\u001b[0m \u001b[0m__setattr__\u001b[0m\u001b[1;33m(\u001b[0m\u001b[0mself\u001b[0m\u001b[1;33m,\u001b[0m \u001b[0mname\u001b[0m\u001b[1;33m:\u001b[0m \u001b[0mstr\u001b[0m\u001b[1;33m,\u001b[0m \u001b[0mvalue\u001b[0m\u001b[1;33m)\u001b[0m \u001b[1;33m->\u001b[0m \u001b[1;32mNone\u001b[0m\u001b[1;33m:\u001b[0m\u001b[1;33m\u001b[0m\u001b[1;33m\u001b[0m\u001b[0m\n",
      "\u001b[1;31mAttributeError\u001b[0m: 'DataFrame' object has no attribute 'toarray'"
     ]
    }
   ],
   "source": [
    "df = df.toarray()"
   ]
  },
  {
   "cell_type": "code",
   "execution_count": 6,
   "metadata": {},
   "outputs": [
    {
     "name": "stdout",
     "output_type": "stream",
     "text": [
      "[[ 0.79395475 -0.2232709  -0.37969979  0.42429222]\n",
      " [ 1.2072646   0.13090519  0.75664962  0.18984572]\n",
      " [-0.53982469  0.83795956 -1.10371737  0.9578612 ]\n",
      " [ 2.13881259  0.89020342  0.68881226 -0.06959596]\n",
      " [-1.32501648  0.31631233 -0.83043552  1.55574995]]\n",
      "<class 'numpy.ndarray'>\n",
      "5 4\n"
     ]
    }
   ],
   "source": [
    "df = np.array(df.values.tolist())\n",
    "print(df)\n",
    "print(type(df))\n",
    "row = df.shape[0]\n",
    "col = df.shape[1]\n",
    "\n",
    "print(row , col)"
   ]
  },
  {
   "cell_type": "code",
   "execution_count": 6,
   "metadata": {},
   "outputs": [
    {
     "name": "stdout",
     "output_type": "stream",
     "text": [
      "[0.6896263  0.6989675  0.33503175 3.24830567]\n",
      "[-0.24367456 -0.86343153 -1.77872253 -0.18609692]\n",
      "[-0.29125354 -0.359729    1.30425556  0.53395072]\n",
      "[ 0.58196047 -1.33141231 -0.52968838 -0.02431761]\n",
      "[0.26382894 0.73820219 0.94530593 0.06026028]\n"
     ]
    }
   ],
   "source": [
    "for row in df:\n",
    "    print(row)"
   ]
  },
  {
   "cell_type": "code",
   "execution_count": 10,
   "metadata": {},
   "outputs": [
    {
     "name": "stdout",
     "output_type": "stream",
     "text": [
      "[[ 0.6896263   0.6989675   0.33503175  3.24830567]\n",
      " [-0.24367456 -0.86343153 -1.77872253 -0.18609692]\n",
      " [-0.29125354 -0.359729    1.30425556  0.53395072]\n",
      " [ 0.58196047 -1.33141231 -0.52968838 -0.02431761]\n",
      " [ 0.26382894  0.73820219  0.94530593  0.06026028]]\n",
      "(5, 4)\n"
     ]
    }
   ],
   "source": [
    "x = []\n",
    "for i in range(df.shape[0]):\n",
    "    x.append(df[i])\n",
    "\n",
    "x=np.array(x)\n",
    "print(x)\n",
    "\n",
    "print(x.shape)"
   ]
  },
  {
   "cell_type": "markdown",
   "metadata": {},
   "source": [
    "arr = np.array"
   ]
  },
  {
   "cell_type": "code",
   "execution_count": 4,
   "metadata": {},
   "outputs": [],
   "source": [
    "class NaiveBayesClassifier :\n",
    "    def fit(self, X, y):\n",
    "        self.X_train = X\n",
    "        self.y_train = y\n",
    "        \n",
    "    #label => spam/ham\n",
    "    def prior_prob(self, label):\n",
    "        total = self.X_train.shape[0]\n",
    "        label_total = np.sum(self.y_train == label)\n",
    "        return label_total/total\n",
    "    \n",
    "    #Conditional probability P(Xi/label)\n",
    "    def conditional_prob(self, col_name, col_value, label):\n",
    "        \n",
    "        X_filtered = []\n",
    "        for i in range(self.X_train.shape[0]):\n",
    "            if label == self.y_train[i]:\n",
    "                X_filtered.append(self.X_train[i])\n",
    "        \n",
    "        X_filtered = np.array(X_filtered)\n",
    "                \n",
    "        #X_filtered = self.X_train[self.y_train == label]\n",
    "        print(X_filtered.shape )\n",
    "        numerator = np.sum(X_filtered[:, col_name] == col_value) + 1\n",
    "        denominator = len(X_filtered) + self.X_train.shape[1]\n",
    "        \n",
    "        return numerator/denominator\n",
    "    \n",
    "    def predict(self, X_test):\n",
    "        \n",
    "        row = X_test.shape[0]\n",
    "        col = X_test.shape[1]\n",
    "        pp1 = self.prior_prob(1)\n",
    "        pp0 = self.prior_prob(0)\n",
    "        \n",
    "        pred = []\n",
    "        \n",
    "        for i in range(row):\n",
    "            s_prob =1.0\n",
    "            ns_prob =1.0\n",
    "            print(i)\n",
    "            \n",
    "            for j in range(col):\n",
    "                s_prob = s_prob*self.conditional_prob(j , X_test[i][j],1);\n",
    "                ns_prob =ns_prob*self.conditional_prob(j , X_test[i][j],0);\n",
    "                print(j , end = \" \")\n",
    "                \n",
    "            s_prob= s_prob*pp1\n",
    "            ns_prob = ns_prob*pp0\n",
    "            if s_prob>ns_prob :\n",
    "                pred.append(1)\n",
    "            else :\n",
    "                pred.append(0)\n",
    "            print('\\n')\n",
    "        return pred;"
   ]
  },
  {
   "cell_type": "code",
   "execution_count": 7,
   "metadata": {
    "scrolled": false
   },
   "outputs": [
    {
     "data": {
      "text/plain": [
       "-0.8683908057912594"
      ]
     },
     "execution_count": 7,
     "metadata": {},
     "output_type": "execute_result"
    }
   ],
   "source": [
    "np.sum(df[:, 2])\n"
   ]
  },
  {
   "cell_type": "code",
   "execution_count": null,
   "metadata": {},
   "outputs": [],
   "source": []
  }
 ],
 "metadata": {
  "kernelspec": {
   "display_name": "Python 3",
   "language": "python",
   "name": "python3"
  },
  "language_info": {
   "codemirror_mode": {
    "name": "ipython",
    "version": 3
   },
   "file_extension": ".py",
   "mimetype": "text/x-python",
   "name": "python",
   "nbconvert_exporter": "python",
   "pygments_lexer": "ipython3",
   "version": "3.8.5"
  }
 },
 "nbformat": 4,
 "nbformat_minor": 4
}
